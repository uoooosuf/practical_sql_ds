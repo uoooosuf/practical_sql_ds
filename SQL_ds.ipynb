{
 "cells": [
  {
   "cell_type": "markdown",
   "metadata": {},
   "source": [
    "## Practical Statistics for Data Science"
   ]
  },
  {
   "cell_type": "code",
   "execution_count": 47,
   "metadata": {},
   "outputs": [
    {
     "name": "stdout",
     "output_type": "stream",
     "text": [
      "                         date  births\n",
      "0  1975-01-01 00:00:00.000000  265775\n",
      "1  1975-03-01 00:00:00.000000  268849\n",
      "2  1975-05-01 00:00:00.000000  254545\n",
      "3  1975-06-01 00:00:00.000000  254096\n",
      "4  1975-07-01 00:00:00.000000  275163\n"
     ]
    }
   ],
   "source": [
    "import pandas as pd\n",
    "from pandasql import sqldf\n",
    "from pandasql import load_births\n",
    "\n",
    "births = load_births()\n",
    "\n",
    "print(sqldf(\"SELECT * FROM births where births > 250000 limit 5;\", locals()))"
   ]
  },
  {
   "cell_type": "code",
   "execution_count": 34,
   "metadata": {},
   "outputs": [
    {
     "name": "stdout",
     "output_type": "stream",
     "text": [
      "          DOB  Total Births\n",
      "0  1975-01-01        265775\n",
      "1  1975-02-01        241045\n",
      "2  1975-03-01        268849\n",
      "3  1975-04-01        247455\n",
      "4  1975-05-01        254545\n",
      "5  1975-06-01        254096\n",
      "6  1975-07-01        275163\n",
      "7  1975-08-01        281300\n",
      "8  1975-09-01        270738\n",
      "9  1975-10-01        265494\n"
     ]
    }
   ],
   "source": [
    "\n",
    "\n",
    "q = \"\"\"\n",
    "    select \n",
    "        date(date) as DOB,\n",
    "        sum(births) as \"Total Births\"\n",
    "    from \n",
    "        births\n",
    "    group by \n",
    "        date\n",
    "        limit 10;    \n",
    "    \"\"\"\n",
    "print(sqldf(q, locals())) \n"
   ]
  },
  {
   "cell_type": "code",
   "execution_count": 35,
   "metadata": {},
   "outputs": [
    {
     "name": "stdout",
     "output_type": "stream",
     "text": [
      "          DOB  Total Births\n",
      "0  1975-01-01        265775\n",
      "1  1975-02-01        241045\n",
      "2  1975-03-01        268849\n",
      "3  1975-04-01        247455\n",
      "4  1975-05-01        254545\n",
      "5  1975-06-01        254096\n",
      "6  1975-07-01        275163\n",
      "7  1975-08-01        281300\n",
      "8  1975-09-01        270738\n",
      "9  1975-10-01        265494\n"
     ]
    }
   ],
   "source": [
    "# Local vs Global making calling pysqldf bit easier\n",
    "\n",
    "def pysqldf(q):\n",
    "    \"add this to your script if you get tired of calling locals()\"\n",
    "    return sqldf(q)\n",
    "\n",
    "\n",
    "print(pysqldf(q))\n"
   ]
  },
  {
   "cell_type": "code",
   "execution_count": 36,
   "metadata": {},
   "outputs": [
    {
     "data": {
      "text/plain": [
       "'/Users/macbook/Desktop/data_science/practical_stat_ds'"
      ]
     },
     "execution_count": 36,
     "metadata": {},
     "output_type": "execute_result"
    }
   ],
   "source": [
    "%pwd"
   ]
  },
  {
   "cell_type": "code",
   "execution_count": 40,
   "metadata": {},
   "outputs": [],
   "source": [
    "import pandas as pd\n",
    "\n",
    "filepath = './Data/DimCustomer.csv'\n",
    "\n",
    "dfcustomer = pd.read_csv(filepath)"
   ]
  },
  {
   "cell_type": "code",
   "execution_count": 41,
   "metadata": {},
   "outputs": [
    {
     "data": {
      "text/html": [
       "<div>\n",
       "<style scoped>\n",
       "    .dataframe tbody tr th:only-of-type {\n",
       "        vertical-align: middle;\n",
       "    }\n",
       "\n",
       "    .dataframe tbody tr th {\n",
       "        vertical-align: top;\n",
       "    }\n",
       "\n",
       "    .dataframe thead th {\n",
       "        text-align: right;\n",
       "    }\n",
       "</style>\n",
       "<table border=\"1\" class=\"dataframe\">\n",
       "  <thead>\n",
       "    <tr style=\"text-align: right;\">\n",
       "      <th></th>\n",
       "      <th>CustomerKey</th>\n",
       "      <th>GeographyKey</th>\n",
       "      <th>CustomerAlternateKey</th>\n",
       "      <th>Title</th>\n",
       "      <th>FirstName</th>\n",
       "      <th>MiddleName</th>\n",
       "      <th>LastName</th>\n",
       "      <th>NameStyle</th>\n",
       "      <th>BirthDate</th>\n",
       "      <th>MaritalStatus</th>\n",
       "      <th>...</th>\n",
       "      <th>EnglishOccupation</th>\n",
       "      <th>SpanishOccupation</th>\n",
       "      <th>FrenchOccupation</th>\n",
       "      <th>HouseOwnerFlag</th>\n",
       "      <th>NumberCarsOwned</th>\n",
       "      <th>AddressLine1</th>\n",
       "      <th>AddressLine2</th>\n",
       "      <th>Phone</th>\n",
       "      <th>DateFirstPurchase</th>\n",
       "      <th>CommuteDistance</th>\n",
       "    </tr>\n",
       "  </thead>\n",
       "  <tbody>\n",
       "    <tr>\n",
       "      <th>0</th>\n",
       "      <td>11000</td>\n",
       "      <td>26</td>\n",
       "      <td>AW00011000</td>\n",
       "      <td>NaN</td>\n",
       "      <td>Jon</td>\n",
       "      <td>V</td>\n",
       "      <td>Yang</td>\n",
       "      <td>0</td>\n",
       "      <td>1971-10-06</td>\n",
       "      <td>M</td>\n",
       "      <td>...</td>\n",
       "      <td>Professional</td>\n",
       "      <td>Profesional</td>\n",
       "      <td>Cadre</td>\n",
       "      <td>1</td>\n",
       "      <td>0</td>\n",
       "      <td>3761 N. 14th St</td>\n",
       "      <td>NaN</td>\n",
       "      <td>1 (11) 500 555-0162</td>\n",
       "      <td>2011-01-19</td>\n",
       "      <td>1-2 Miles</td>\n",
       "    </tr>\n",
       "    <tr>\n",
       "      <th>1</th>\n",
       "      <td>11001</td>\n",
       "      <td>37</td>\n",
       "      <td>AW00011001</td>\n",
       "      <td>NaN</td>\n",
       "      <td>Eugene</td>\n",
       "      <td>L</td>\n",
       "      <td>Huang</td>\n",
       "      <td>0</td>\n",
       "      <td>1976-05-10</td>\n",
       "      <td>S</td>\n",
       "      <td>...</td>\n",
       "      <td>Professional</td>\n",
       "      <td>Profesional</td>\n",
       "      <td>Cadre</td>\n",
       "      <td>0</td>\n",
       "      <td>1</td>\n",
       "      <td>2243 W St.</td>\n",
       "      <td>NaN</td>\n",
       "      <td>1 (11) 500 555-0110</td>\n",
       "      <td>2011-01-15</td>\n",
       "      <td>0-1 Miles</td>\n",
       "    </tr>\n",
       "    <tr>\n",
       "      <th>2</th>\n",
       "      <td>11002</td>\n",
       "      <td>31</td>\n",
       "      <td>AW00011002</td>\n",
       "      <td>NaN</td>\n",
       "      <td>Ruben</td>\n",
       "      <td>NaN</td>\n",
       "      <td>Torres</td>\n",
       "      <td>0</td>\n",
       "      <td>1971-02-09</td>\n",
       "      <td>M</td>\n",
       "      <td>...</td>\n",
       "      <td>Professional</td>\n",
       "      <td>Profesional</td>\n",
       "      <td>Cadre</td>\n",
       "      <td>1</td>\n",
       "      <td>1</td>\n",
       "      <td>5844 Linden Land</td>\n",
       "      <td>NaN</td>\n",
       "      <td>1 (11) 500 555-0184</td>\n",
       "      <td>2011-01-07</td>\n",
       "      <td>2-5 Miles</td>\n",
       "    </tr>\n",
       "  </tbody>\n",
       "</table>\n",
       "<p>3 rows × 29 columns</p>\n",
       "</div>"
      ],
      "text/plain": [
       "   CustomerKey  GeographyKey CustomerAlternateKey Title FirstName MiddleName  \\\n",
       "0        11000            26           AW00011000   NaN       Jon          V   \n",
       "1        11001            37           AW00011001   NaN    Eugene          L   \n",
       "2        11002            31           AW00011002   NaN     Ruben        NaN   \n",
       "\n",
       "  LastName  NameStyle   BirthDate MaritalStatus  ... EnglishOccupation  \\\n",
       "0     Yang          0  1971-10-06             M  ...      Professional   \n",
       "1    Huang          0  1976-05-10             S  ...      Professional   \n",
       "2   Torres          0  1971-02-09             M  ...      Professional   \n",
       "\n",
       "  SpanishOccupation FrenchOccupation  HouseOwnerFlag  NumberCarsOwned  \\\n",
       "0       Profesional            Cadre               1                0   \n",
       "1       Profesional            Cadre               0                1   \n",
       "2       Profesional            Cadre               1                1   \n",
       "\n",
       "       AddressLine1 AddressLine2                Phone DateFirstPurchase  \\\n",
       "0   3761 N. 14th St          NaN  1 (11) 500 555-0162        2011-01-19   \n",
       "1        2243 W St.          NaN  1 (11) 500 555-0110        2011-01-15   \n",
       "2  5844 Linden Land          NaN  1 (11) 500 555-0184        2011-01-07   \n",
       "\n",
       "  CommuteDistance  \n",
       "0       1-2 Miles  \n",
       "1       0-1 Miles  \n",
       "2       2-5 Miles  \n",
       "\n",
       "[3 rows x 29 columns]"
      ]
     },
     "execution_count": 41,
     "metadata": {},
     "output_type": "execute_result"
    }
   ],
   "source": [
    "dfcustomer.head(3)"
   ]
  },
  {
   "cell_type": "code",
   "execution_count": 45,
   "metadata": {},
   "outputs": [
    {
     "data": {
      "text/plain": [
       "ProductKey                 int64\n",
       "OrderDateKey               int64\n",
       "DueDateKey                 int64\n",
       "ShipDateKey                int64\n",
       "CustomerKey                int64\n",
       "PromotionKey               int64\n",
       "CurrencyKey                int64\n",
       "SalesTerritoryKey          int64\n",
       "SalesOrderNumber          object\n",
       "SalesOrderLineNumber       int64\n",
       "RevisionNumber             int64\n",
       "OrderQuantity              int64\n",
       "UnitPrice                float64\n",
       "ExtendedAmount           float64\n",
       "UnitPriceDiscountPct       int64\n",
       "DiscountAmount             int64\n",
       "ProductStandardCost      float64\n",
       "TotalProductCost         float64\n",
       "SalesAmount              float64\n",
       "TaxAmt                   float64\n",
       "Freight                  float64\n",
       "CarrierTrackingNumber    float64\n",
       "CustomerPONumber         float64\n",
       "OrderDate                 object\n",
       "DueDate                   object\n",
       "ShipDate                  object\n",
       "dtype: object"
      ]
     },
     "execution_count": 45,
     "metadata": {},
     "output_type": "execute_result"
    }
   ],
   "source": [
    "filepath = './Data/FactInternetSales.csv'\n",
    "dfinternetsales = pd.read_csv(filepath)\n",
    "dfinternetsales.dtypes"
   ]
  },
  {
   "cell_type": "code",
   "execution_count": 49,
   "metadata": {},
   "outputs": [
    {
     "name": "stdout",
     "output_type": "stream",
     "text": [
      "  FirstName   LastName       Job Title\n",
      "0     Aaron      Adams  Skilled Manual\n",
      "1     Aaron  Alexander  Skilled Manual\n",
      "2     Aaron      Allen          Manual\n",
      "3     Aaron      Baker  Skilled Manual\n",
      "4     Aaron     Bryant      Management\n"
     ]
    }
   ],
   "source": [
    "import pandas as pd\n",
    "from pandasql import sqldf\n",
    "\n",
    "print(pysqldf(\n",
    "    '''select FirstName, LastName, EnglishOccupation as \n",
    "        \"Job Title\" from dfcustomer order by FirstName, LastName limit 5\n",
    "    '''\n",
    "))"
   ]
  },
  {
   "cell_type": "code",
   "execution_count": null,
   "metadata": {},
   "outputs": [],
   "source": [
    "# Joining dataframes with SQL\n",
    "\n",
    "query = '''\n",
    "    select * from dfcustomer          c\n",
    "    left outer join dfinternetsales   s\n",
    "        on (c.CustomerKey = s.Customerkey) limit 5\n",
    "    \n",
    "'''\n",
    "\n",
    "pysqldf(query)"
   ]
  },
  {
   "cell_type": "code",
   "execution_count": null,
   "metadata": {},
   "outputs": [],
   "source": []
  },
  {
   "cell_type": "code",
   "execution_count": null,
   "metadata": {},
   "outputs": [],
   "source": []
  }
 ],
 "metadata": {
  "kernelspec": {
   "display_name": "Python 3.9.13 ('minimal_ds')",
   "language": "python",
   "name": "python3"
  },
  "language_info": {
   "codemirror_mode": {
    "name": "ipython",
    "version": 3
   },
   "file_extension": ".py",
   "mimetype": "text/x-python",
   "name": "python",
   "nbconvert_exporter": "python",
   "pygments_lexer": "ipython3",
   "version": "3.9.13"
  },
  "orig_nbformat": 4,
  "vscode": {
   "interpreter": {
    "hash": "95ea08a633b6a0cc9bbb5cbbb29dbe7f5177a7680d83a5ab6f386fc826c44edd"
   }
  }
 },
 "nbformat": 4,
 "nbformat_minor": 2
}
